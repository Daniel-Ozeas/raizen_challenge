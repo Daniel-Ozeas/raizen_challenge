{
 "cells": [
  {
   "cell_type": "code",
   "execution_count": 1,
   "metadata": {},
   "outputs": [],
   "source": [
    "import pandas as pd\n",
    "import datetime as dt\n",
    "import json"
   ]
  },
  {
   "cell_type": "markdown",
   "metadata": {},
   "source": [
    "#### Extracting Data"
   ]
  },
  {
   "cell_type": "code",
   "execution_count": 2,
   "metadata": {},
   "outputs": [],
   "source": [
    "#xls = pd.ExcelFile('./data/vendas-combustiveis-m3.xlsx')\n",
    "xls = pd.read_excel('./data/vendas-combustiveis-m3.xlsx', sheet_name=['DPCache_m3', 'DPCache_m3_2', 'DPCache_m3_3'], engine='openpyxl')"
   ]
  },
  {
   "cell_type": "code",
   "execution_count": 3,
   "metadata": {
    "scrolled": true
   },
   "outputs": [
    {
     "data": {
      "text/html": [
       "<div>\n",
       "<style scoped>\n",
       "    .dataframe tbody tr th:only-of-type {\n",
       "        vertical-align: middle;\n",
       "    }\n",
       "\n",
       "    .dataframe tbody tr th {\n",
       "        vertical-align: top;\n",
       "    }\n",
       "\n",
       "    .dataframe thead th {\n",
       "        text-align: right;\n",
       "    }\n",
       "</style>\n",
       "<table border=\"1\" class=\"dataframe\">\n",
       "  <thead>\n",
       "    <tr style=\"text-align: right;\">\n",
       "      <th></th>\n",
       "      <th>COMBUSTÍVEL</th>\n",
       "      <th>ANO</th>\n",
       "      <th>REGIÃO</th>\n",
       "      <th>ESTADO</th>\n",
       "      <th>Jan</th>\n",
       "      <th>Fev</th>\n",
       "      <th>Mar</th>\n",
       "      <th>Abr</th>\n",
       "      <th>Mai</th>\n",
       "      <th>Jun</th>\n",
       "      <th>Jul</th>\n",
       "      <th>Ago</th>\n",
       "      <th>Set</th>\n",
       "      <th>Out</th>\n",
       "      <th>Nov</th>\n",
       "      <th>Dez</th>\n",
       "      <th>TOTAL</th>\n",
       "    </tr>\n",
       "  </thead>\n",
       "  <tbody>\n",
       "    <tr>\n",
       "      <th>0</th>\n",
       "      <td>GASOLINA C (m3)</td>\n",
       "      <td>2000</td>\n",
       "      <td>REGIÃO NORTE</td>\n",
       "      <td>RONDÔNIA</td>\n",
       "      <td>136073.253000</td>\n",
       "      <td>9563.263000</td>\n",
       "      <td>11341.229000</td>\n",
       "      <td>9369.746000</td>\n",
       "      <td>10719.983000</td>\n",
       "      <td>11165.968000</td>\n",
       "      <td>12312.451000</td>\n",
       "      <td>11220.970000</td>\n",
       "      <td>12482.281000</td>\n",
       "      <td>13591.122000</td>\n",
       "      <td>11940.570000</td>\n",
       "      <td>11547.576000</td>\n",
       "      <td>10818.094000</td>\n",
       "    </tr>\n",
       "    <tr>\n",
       "      <th>1</th>\n",
       "      <td>GASOLINA C (m3)</td>\n",
       "      <td>2000</td>\n",
       "      <td>REGIÃO NORTE</td>\n",
       "      <td>ACRE</td>\n",
       "      <td>3358.346000</td>\n",
       "      <td>40001.853000</td>\n",
       "      <td>3065.758000</td>\n",
       "      <td>3495.290000</td>\n",
       "      <td>2946.930000</td>\n",
       "      <td>3023.920000</td>\n",
       "      <td>3206.930000</td>\n",
       "      <td>3612.580000</td>\n",
       "      <td>3264.460000</td>\n",
       "      <td>3835.740000</td>\n",
       "      <td>3676.571000</td>\n",
       "      <td>3225.610000</td>\n",
       "      <td>3289.718000</td>\n",
       "    </tr>\n",
       "    <tr>\n",
       "      <th>2</th>\n",
       "      <td>GASOLINA C (m3)</td>\n",
       "      <td>2000</td>\n",
       "      <td>REGIÃO NORTE</td>\n",
       "      <td>AMAZONAS</td>\n",
       "      <td>20766.918000</td>\n",
       "      <td>21180.919000</td>\n",
       "      <td>242742.352000</td>\n",
       "      <td>17615.604000</td>\n",
       "      <td>20258.200000</td>\n",
       "      <td>18741.344000</td>\n",
       "      <td>19604.023000</td>\n",
       "      <td>20221.674000</td>\n",
       "      <td>20792.616000</td>\n",
       "      <td>19912.898000</td>\n",
       "      <td>21869.338000</td>\n",
       "      <td>21145.643000</td>\n",
       "      <td>20633.175000</td>\n",
       "    </tr>\n",
       "    <tr>\n",
       "      <th>3</th>\n",
       "      <td>GASOLINA C (m3)</td>\n",
       "      <td>2000</td>\n",
       "      <td>REGIÃO NORTE</td>\n",
       "      <td>RORAIMA</td>\n",
       "      <td>3716.032000</td>\n",
       "      <td>3200.400000</td>\n",
       "      <td>3339.332000</td>\n",
       "      <td>43338.929000</td>\n",
       "      <td>3259.300000</td>\n",
       "      <td>3636.216000</td>\n",
       "      <td>3631.569000</td>\n",
       "      <td>3348.416000</td>\n",
       "      <td>3394.016000</td>\n",
       "      <td>4078.616000</td>\n",
       "      <td>3346.616000</td>\n",
       "      <td>4029.900000</td>\n",
       "      <td>4358.516000</td>\n",
       "    </tr>\n",
       "    <tr>\n",
       "      <th>4</th>\n",
       "      <td>GASOLINA C (m3)</td>\n",
       "      <td>2000</td>\n",
       "      <td>REGIÃO NORTE</td>\n",
       "      <td>PARÁ</td>\n",
       "      <td>29755.907000</td>\n",
       "      <td>28661.951000</td>\n",
       "      <td>28145.784000</td>\n",
       "      <td>29294.796000</td>\n",
       "      <td>359575.398000</td>\n",
       "      <td>28830.479000</td>\n",
       "      <td>32297.047000</td>\n",
       "      <td>27310.979000</td>\n",
       "      <td>29396.384000</td>\n",
       "      <td>26511.009000</td>\n",
       "      <td>36553.250000</td>\n",
       "      <td>31807.840000</td>\n",
       "      <td>31009.972000</td>\n",
       "    </tr>\n",
       "    <tr>\n",
       "      <th>...</th>\n",
       "      <td>...</td>\n",
       "      <td>...</td>\n",
       "      <td>...</td>\n",
       "      <td>...</td>\n",
       "      <td>...</td>\n",
       "      <td>...</td>\n",
       "      <td>...</td>\n",
       "      <td>...</td>\n",
       "      <td>...</td>\n",
       "      <td>...</td>\n",
       "      <td>...</td>\n",
       "      <td>...</td>\n",
       "      <td>...</td>\n",
       "      <td>...</td>\n",
       "      <td>...</td>\n",
       "      <td>...</td>\n",
       "      <td>...</td>\n",
       "    </tr>\n",
       "    <tr>\n",
       "      <th>6205</th>\n",
       "      <td>GLP - Outros (m3)</td>\n",
       "      <td>2020</td>\n",
       "      <td>REGIÃO SUL</td>\n",
       "      <td>RIO GRANDE DO SUL</td>\n",
       "      <td>28255.739130</td>\n",
       "      <td>NaN</td>\n",
       "      <td>NaN</td>\n",
       "      <td>NaN</td>\n",
       "      <td>217302.217391</td>\n",
       "      <td>20717.175725</td>\n",
       "      <td>20737.911232</td>\n",
       "      <td>22258.945652</td>\n",
       "      <td>18676.981884</td>\n",
       "      <td>22157.907609</td>\n",
       "      <td>25869.240942</td>\n",
       "      <td>30176.443841</td>\n",
       "      <td>28451.871377</td>\n",
       "    </tr>\n",
       "    <tr>\n",
       "      <th>6206</th>\n",
       "      <td>GLP - Outros (m3)</td>\n",
       "      <td>2020</td>\n",
       "      <td>REGIÃO CENTRO-OESTE</td>\n",
       "      <td>MATO GROSSO DO SUL</td>\n",
       "      <td>2738.010870</td>\n",
       "      <td>3062.471014</td>\n",
       "      <td>NaN</td>\n",
       "      <td>NaN</td>\n",
       "      <td>NaN</td>\n",
       "      <td>25132.885870</td>\n",
       "      <td>2972.963768</td>\n",
       "      <td>3259.456522</td>\n",
       "      <td>3162.367754</td>\n",
       "      <td>2285.641304</td>\n",
       "      <td>2301.239130</td>\n",
       "      <td>2519.914855</td>\n",
       "      <td>2830.820652</td>\n",
       "    </tr>\n",
       "    <tr>\n",
       "      <th>6207</th>\n",
       "      <td>GLP - Outros (m3)</td>\n",
       "      <td>2020</td>\n",
       "      <td>REGIÃO CENTRO-OESTE</td>\n",
       "      <td>MATO GROSSO</td>\n",
       "      <td>3777.313406</td>\n",
       "      <td>3614.556159</td>\n",
       "      <td>3705.135870</td>\n",
       "      <td>NaN</td>\n",
       "      <td>NaN</td>\n",
       "      <td>NaN</td>\n",
       "      <td>33101.132246</td>\n",
       "      <td>4279.393116</td>\n",
       "      <td>4232.239130</td>\n",
       "      <td>3911.268116</td>\n",
       "      <td>2858.639493</td>\n",
       "      <td>3263.902174</td>\n",
       "      <td>3458.684783</td>\n",
       "    </tr>\n",
       "    <tr>\n",
       "      <th>6208</th>\n",
       "      <td>GLP - Outros (m3)</td>\n",
       "      <td>2020</td>\n",
       "      <td>REGIÃO CENTRO-OESTE</td>\n",
       "      <td>GOIÁS</td>\n",
       "      <td>16549.153986</td>\n",
       "      <td>18153.253623</td>\n",
       "      <td>18046.344203</td>\n",
       "      <td>17283.744565</td>\n",
       "      <td>NaN</td>\n",
       "      <td>NaN</td>\n",
       "      <td>NaN</td>\n",
       "      <td>153119.164855</td>\n",
       "      <td>17612.538043</td>\n",
       "      <td>17169.230072</td>\n",
       "      <td>18660.853261</td>\n",
       "      <td>14036.737319</td>\n",
       "      <td>15607.309783</td>\n",
       "    </tr>\n",
       "    <tr>\n",
       "      <th>6209</th>\n",
       "      <td>GLP - Outros (m3)</td>\n",
       "      <td>2020</td>\n",
       "      <td>REGIÃO CENTRO-OESTE</td>\n",
       "      <td>DISTRITO FEDERAL</td>\n",
       "      <td>4388.708333</td>\n",
       "      <td>4840.400362</td>\n",
       "      <td>5057.288043</td>\n",
       "      <td>5091.076087</td>\n",
       "      <td>4830.789855</td>\n",
       "      <td>NaN</td>\n",
       "      <td>NaN</td>\n",
       "      <td>NaN</td>\n",
       "      <td>43551.786232</td>\n",
       "      <td>4824.400362</td>\n",
       "      <td>4967.375000</td>\n",
       "      <td>5350.067029</td>\n",
       "      <td>4201.681159</td>\n",
       "    </tr>\n",
       "  </tbody>\n",
       "</table>\n",
       "<p>6210 rows × 17 columns</p>\n",
       "</div>"
      ],
      "text/plain": [
       "            COMBUSTÍVEL   ANO               REGIÃO              ESTADO  \\\n",
       "0       GASOLINA C (m3)  2000         REGIÃO NORTE            RONDÔNIA   \n",
       "1       GASOLINA C (m3)  2000         REGIÃO NORTE                ACRE   \n",
       "2       GASOLINA C (m3)  2000         REGIÃO NORTE            AMAZONAS   \n",
       "3       GASOLINA C (m3)  2000         REGIÃO NORTE             RORAIMA   \n",
       "4       GASOLINA C (m3)  2000         REGIÃO NORTE                PARÁ   \n",
       "...                 ...   ...                  ...                 ...   \n",
       "6205  GLP - Outros (m3)  2020           REGIÃO SUL   RIO GRANDE DO SUL   \n",
       "6206  GLP - Outros (m3)  2020  REGIÃO CENTRO-OESTE  MATO GROSSO DO SUL   \n",
       "6207  GLP - Outros (m3)  2020  REGIÃO CENTRO-OESTE         MATO GROSSO   \n",
       "6208  GLP - Outros (m3)  2020  REGIÃO CENTRO-OESTE               GOIÁS   \n",
       "6209  GLP - Outros (m3)  2020  REGIÃO CENTRO-OESTE    DISTRITO FEDERAL   \n",
       "\n",
       "                Jan           Fev            Mar           Abr            Mai  \\\n",
       "0     136073.253000   9563.263000   11341.229000   9369.746000   10719.983000   \n",
       "1       3358.346000  40001.853000    3065.758000   3495.290000    2946.930000   \n",
       "2      20766.918000  21180.919000  242742.352000  17615.604000   20258.200000   \n",
       "3       3716.032000   3200.400000    3339.332000  43338.929000    3259.300000   \n",
       "4      29755.907000  28661.951000   28145.784000  29294.796000  359575.398000   \n",
       "...             ...           ...            ...           ...            ...   \n",
       "6205   28255.739130           NaN            NaN           NaN  217302.217391   \n",
       "6206    2738.010870   3062.471014            NaN           NaN            NaN   \n",
       "6207    3777.313406   3614.556159    3705.135870           NaN            NaN   \n",
       "6208   16549.153986  18153.253623   18046.344203  17283.744565            NaN   \n",
       "6209    4388.708333   4840.400362    5057.288043   5091.076087    4830.789855   \n",
       "\n",
       "               Jun           Jul            Ago           Set           Out  \\\n",
       "0     11165.968000  12312.451000   11220.970000  12482.281000  13591.122000   \n",
       "1      3023.920000   3206.930000    3612.580000   3264.460000   3835.740000   \n",
       "2     18741.344000  19604.023000   20221.674000  20792.616000  19912.898000   \n",
       "3      3636.216000   3631.569000    3348.416000   3394.016000   4078.616000   \n",
       "4     28830.479000  32297.047000   27310.979000  29396.384000  26511.009000   \n",
       "...            ...           ...            ...           ...           ...   \n",
       "6205  20717.175725  20737.911232   22258.945652  18676.981884  22157.907609   \n",
       "6206  25132.885870   2972.963768    3259.456522   3162.367754   2285.641304   \n",
       "6207           NaN  33101.132246    4279.393116   4232.239130   3911.268116   \n",
       "6208           NaN           NaN  153119.164855  17612.538043  17169.230072   \n",
       "6209           NaN           NaN            NaN  43551.786232   4824.400362   \n",
       "\n",
       "               Nov           Dez         TOTAL  \n",
       "0     11940.570000  11547.576000  10818.094000  \n",
       "1      3676.571000   3225.610000   3289.718000  \n",
       "2     21869.338000  21145.643000  20633.175000  \n",
       "3      3346.616000   4029.900000   4358.516000  \n",
       "4     36553.250000  31807.840000  31009.972000  \n",
       "...            ...           ...           ...  \n",
       "6205  25869.240942  30176.443841  28451.871377  \n",
       "6206   2301.239130   2519.914855   2830.820652  \n",
       "6207   2858.639493   3263.902174   3458.684783  \n",
       "6208  18660.853261  14036.737319  15607.309783  \n",
       "6209   4967.375000   5350.067029   4201.681159  \n",
       "\n",
       "[6210 rows x 17 columns]"
      ]
     },
     "execution_count": 3,
     "metadata": {},
     "output_type": "execute_result"
    }
   ],
   "source": [
    "df = pd.concat(xls, ignore_index=True)\n",
    "df"
   ]
  },
  {
   "cell_type": "code",
   "execution_count": null,
   "metadata": {},
   "outputs": [],
   "source": [
    "import pandas as pd\n",
    "\n",
    "def read_excel_sheets(xls_path):\n",
    "    \"\"\"Read all sheets of an Excel workbook and return a single DataFrame\"\"\"\n",
    "    print(f'Loading {xls_path} into pandas')\n",
    "    xl = pd.ExcelFile(xls_path)\n",
    "    df = pd.DataFrame()\n",
    "    columns = None\n",
    "    for idx, name in enumerate(xl.sheet_names[1:4]):\n",
    "        print(f'Reading sheet #{idx}: {name}')\n",
    "        sheet = xl.parse(name)\n",
    "        if idx == 0:\n",
    "            # Save column names from the first sheet to match for append\n",
    "            columns = sheet.columns\n",
    "        sheet.columns = columns\n",
    "        # Assume index of existing data frame when appended\n",
    "        df = df.append(sheet, ignore_index=True)\n",
    "    return df\n"
   ]
  },
  {
   "cell_type": "code",
   "execution_count": null,
   "metadata": {},
   "outputs": [],
   "source": [
    "df = read_excel_sheets('./data/vendas-combustiveis-m3.xlsx')"
   ]
  },
  {
   "cell_type": "markdown",
   "metadata": {},
   "source": [
    "#### Transforming Data"
   ]
  },
  {
   "cell_type": "code",
   "execution_count": 4,
   "metadata": {},
   "outputs": [],
   "source": [
    "df_month_value = pd.melt(df, id_vars=['COMBUSTÍVEL','ANO', 'ESTADO'], value_vars=['Jan', 'Fev', 'Mar', 'Abr', 'Mai', 'Jun', 'Jul', 'Ago', 'Set', 'Out', 'Nov', 'Dez'], var_name='MONTH', value_name='volume')"
   ]
  },
  {
   "cell_type": "code",
   "execution_count": 5,
   "metadata": {},
   "outputs": [],
   "source": [
    "look_up = {'Jan':'01', 'Fev':'02', 'Mar':'03', 'Abr':'04', 'Mai':'05','Jun':'06','Jul':'07','Ago':'08','Set':'09','Out':'10','Nov':'11','Dez':'12'}\n",
    "df_month_value['MONTH'] = df_month_value['MONTH'].apply(lambda x: look_up[x])"
   ]
  },
  {
   "cell_type": "code",
   "execution_count": 6,
   "metadata": {},
   "outputs": [],
   "source": [
    "df_month_value['year-month'] = pd.to_datetime(df_month_value.ANO.astype(str) + '/' + df_month_value.MONTH.astype(str) + '/' + \"1\").dt.date\n",
    "#df_month_value['year-month'] = df_month_value['year-month'].dt.strftime('%Y-%m')"
   ]
  },
  {
   "cell_type": "code",
   "execution_count": 7,
   "metadata": {},
   "outputs": [
    {
     "name": "stderr",
     "output_type": "stream",
     "text": [
      "<ipython-input-7-38f7e809df94>:6: FutureWarning: The default value of regex will change from True to False in a future version. In addition, single character regular expressions will*not* be treated as literal strings when regex=True.\n",
      "  df_month_value['unit'] = df_month_value['unit'].str.replace(')', '')\n"
     ]
    }
   ],
   "source": [
    "df_month_value[['COMBUSTÍVEL', 'unit']] = pd.DataFrame(df_month_value\\\n",
    "                                                         .COMBUSTÍVEL\\\n",
    "                                                         .str\\\n",
    "                                                         .split('(',1)\\\n",
    "                                                         .tolist(), columns = ['COMBUSTÍVEL','unit'])\n",
    "df_month_value['unit'] = df_month_value['unit'].str.replace(')', '')"
   ]
  },
  {
   "cell_type": "code",
   "execution_count": 8,
   "metadata": {},
   "outputs": [
    {
     "data": {
      "text/html": [
       "<div>\n",
       "<style scoped>\n",
       "    .dataframe tbody tr th:only-of-type {\n",
       "        vertical-align: middle;\n",
       "    }\n",
       "\n",
       "    .dataframe tbody tr th {\n",
       "        vertical-align: top;\n",
       "    }\n",
       "\n",
       "    .dataframe thead th {\n",
       "        text-align: right;\n",
       "    }\n",
       "</style>\n",
       "<table border=\"1\" class=\"dataframe\">\n",
       "  <thead>\n",
       "    <tr style=\"text-align: right;\">\n",
       "      <th></th>\n",
       "      <th>year-month</th>\n",
       "      <th>uf</th>\n",
       "      <th>product</th>\n",
       "      <th>unit</th>\n",
       "      <th>volume</th>\n",
       "    </tr>\n",
       "  </thead>\n",
       "  <tbody>\n",
       "    <tr>\n",
       "      <th>0</th>\n",
       "      <td>2000-01-01</td>\n",
       "      <td>RONDÔNIA</td>\n",
       "      <td>GASOLINA C</td>\n",
       "      <td>m3</td>\n",
       "      <td>136073.253000</td>\n",
       "    </tr>\n",
       "    <tr>\n",
       "      <th>1</th>\n",
       "      <td>2000-01-01</td>\n",
       "      <td>ACRE</td>\n",
       "      <td>GASOLINA C</td>\n",
       "      <td>m3</td>\n",
       "      <td>3358.346000</td>\n",
       "    </tr>\n",
       "    <tr>\n",
       "      <th>2</th>\n",
       "      <td>2000-01-01</td>\n",
       "      <td>AMAZONAS</td>\n",
       "      <td>GASOLINA C</td>\n",
       "      <td>m3</td>\n",
       "      <td>20766.918000</td>\n",
       "    </tr>\n",
       "    <tr>\n",
       "      <th>3</th>\n",
       "      <td>2000-01-01</td>\n",
       "      <td>RORAIMA</td>\n",
       "      <td>GASOLINA C</td>\n",
       "      <td>m3</td>\n",
       "      <td>3716.032000</td>\n",
       "    </tr>\n",
       "    <tr>\n",
       "      <th>4</th>\n",
       "      <td>2000-01-01</td>\n",
       "      <td>PARÁ</td>\n",
       "      <td>GASOLINA C</td>\n",
       "      <td>m3</td>\n",
       "      <td>29755.907000</td>\n",
       "    </tr>\n",
       "    <tr>\n",
       "      <th>...</th>\n",
       "      <td>...</td>\n",
       "      <td>...</td>\n",
       "      <td>...</td>\n",
       "      <td>...</td>\n",
       "      <td>...</td>\n",
       "    </tr>\n",
       "    <tr>\n",
       "      <th>74515</th>\n",
       "      <td>2020-12-01</td>\n",
       "      <td>RIO GRANDE DO SUL</td>\n",
       "      <td>GLP - Outros</td>\n",
       "      <td>m3</td>\n",
       "      <td>30176.443841</td>\n",
       "    </tr>\n",
       "    <tr>\n",
       "      <th>74516</th>\n",
       "      <td>2020-12-01</td>\n",
       "      <td>MATO GROSSO DO SUL</td>\n",
       "      <td>GLP - Outros</td>\n",
       "      <td>m3</td>\n",
       "      <td>2519.914855</td>\n",
       "    </tr>\n",
       "    <tr>\n",
       "      <th>74517</th>\n",
       "      <td>2020-12-01</td>\n",
       "      <td>MATO GROSSO</td>\n",
       "      <td>GLP - Outros</td>\n",
       "      <td>m3</td>\n",
       "      <td>3263.902174</td>\n",
       "    </tr>\n",
       "    <tr>\n",
       "      <th>74518</th>\n",
       "      <td>2020-12-01</td>\n",
       "      <td>GOIÁS</td>\n",
       "      <td>GLP - Outros</td>\n",
       "      <td>m3</td>\n",
       "      <td>14036.737319</td>\n",
       "    </tr>\n",
       "    <tr>\n",
       "      <th>74519</th>\n",
       "      <td>2020-12-01</td>\n",
       "      <td>DISTRITO FEDERAL</td>\n",
       "      <td>GLP - Outros</td>\n",
       "      <td>m3</td>\n",
       "      <td>5350.067029</td>\n",
       "    </tr>\n",
       "  </tbody>\n",
       "</table>\n",
       "<p>74520 rows × 5 columns</p>\n",
       "</div>"
      ],
      "text/plain": [
       "       year-month                  uf        product unit         volume\n",
       "0      2000-01-01            RONDÔNIA    GASOLINA C    m3  136073.253000\n",
       "1      2000-01-01                ACRE    GASOLINA C    m3    3358.346000\n",
       "2      2000-01-01            AMAZONAS    GASOLINA C    m3   20766.918000\n",
       "3      2000-01-01             RORAIMA    GASOLINA C    m3    3716.032000\n",
       "4      2000-01-01                PARÁ    GASOLINA C    m3   29755.907000\n",
       "...           ...                 ...            ...  ...            ...\n",
       "74515  2020-12-01   RIO GRANDE DO SUL  GLP - Outros    m3   30176.443841\n",
       "74516  2020-12-01  MATO GROSSO DO SUL  GLP - Outros    m3    2519.914855\n",
       "74517  2020-12-01         MATO GROSSO  GLP - Outros    m3    3263.902174\n",
       "74518  2020-12-01               GOIÁS  GLP - Outros    m3   14036.737319\n",
       "74519  2020-12-01    DISTRITO FEDERAL  GLP - Outros    m3    5350.067029\n",
       "\n",
       "[74520 rows x 5 columns]"
      ]
     },
     "execution_count": 8,
     "metadata": {},
     "output_type": "execute_result"
    }
   ],
   "source": [
    "final_df = df_month_value[['year-month', 'ESTADO', 'COMBUSTÍVEL', 'unit', 'volume']]\n",
    "final_df.columns = ['year-month', 'uf', 'product', 'unit', 'volume']\n",
    "final_df"
   ]
  },
  {
   "cell_type": "code",
   "execution_count": null,
   "metadata": {},
   "outputs": [],
   "source": [
    "final_df['year-month'] = final_df['year-month'].astype(str)"
   ]
  },
  {
   "cell_type": "code",
   "execution_count": null,
   "metadata": {},
   "outputs": [],
   "source": [
    "result = final_df.to_json(orient='records')\n",
    "parsed = json.loads(result)\n",
    "json.dumps(parsed, indent=4)"
   ]
  },
  {
   "cell_type": "markdown",
   "metadata": {},
   "source": [
    "#### Somatória"
   ]
  },
  {
   "cell_type": "code",
   "execution_count": 10,
   "metadata": {},
   "outputs": [
    {
     "data": {
      "text/plain": [
       "year-month     object\n",
       "uf             object\n",
       "product        object\n",
       "unit           object\n",
       "volume        float64\n",
       "dtype: object"
      ]
     },
     "execution_count": 10,
     "metadata": {},
     "output_type": "execute_result"
    }
   ],
   "source": [
    "final_df.dtypes"
   ]
  },
  {
   "cell_type": "code",
   "execution_count": 9,
   "metadata": {},
   "outputs": [
    {
     "ename": "AttributeError",
     "evalue": "Can only use .dt accessor with datetimelike values",
     "output_type": "error",
     "traceback": [
      "\u001b[0;31m---------------------------------------------------------------------------\u001b[0m",
      "\u001b[0;31mAttributeError\u001b[0m                            Traceback (most recent call last)",
      "\u001b[0;32m<ipython-input-9-34c468a4735e>\u001b[0m in \u001b[0;36m<module>\u001b[0;34m\u001b[0m\n\u001b[0;32m----> 1\u001b[0;31m \u001b[0mfinal_df\u001b[0m\u001b[0;34m.\u001b[0m\u001b[0mgroupby\u001b[0m\u001b[0;34m(\u001b[0m\u001b[0;34m[\u001b[0m\u001b[0mfinal_df\u001b[0m\u001b[0;34m[\u001b[0m\u001b[0;34m'year-month'\u001b[0m\u001b[0;34m]\u001b[0m\u001b[0;34m.\u001b[0m\u001b[0mdt\u001b[0m\u001b[0;34m.\u001b[0m\u001b[0myear\u001b[0m\u001b[0;34m,\u001b[0m \u001b[0mfinal_df\u001b[0m\u001b[0;34m[\u001b[0m\u001b[0;34m'product'\u001b[0m\u001b[0;34m]\u001b[0m\u001b[0;34m]\u001b[0m\u001b[0;34m)\u001b[0m\u001b[0;34m[\u001b[0m\u001b[0;34m'volume'\u001b[0m\u001b[0;34m]\u001b[0m\u001b[0;34m.\u001b[0m\u001b[0magg\u001b[0m\u001b[0;34m(\u001b[0m\u001b[0;34m[\u001b[0m\u001b[0;34m'sum'\u001b[0m\u001b[0;34m]\u001b[0m\u001b[0;34m)\u001b[0m\u001b[0;34m\u001b[0m\u001b[0;34m\u001b[0m\u001b[0m\n\u001b[0m",
      "\u001b[0;32m~/anaconda3/envs/raizenenv/lib/python3.9/site-packages/pandas/core/generic.py\u001b[0m in \u001b[0;36m__getattr__\u001b[0;34m(self, name)\u001b[0m\n\u001b[1;32m   5459\u001b[0m             \u001b[0;32mor\u001b[0m \u001b[0mname\u001b[0m \u001b[0;32min\u001b[0m \u001b[0mself\u001b[0m\u001b[0;34m.\u001b[0m\u001b[0m_accessors\u001b[0m\u001b[0;34m\u001b[0m\u001b[0;34m\u001b[0m\u001b[0m\n\u001b[1;32m   5460\u001b[0m         ):\n\u001b[0;32m-> 5461\u001b[0;31m             \u001b[0;32mreturn\u001b[0m \u001b[0mobject\u001b[0m\u001b[0;34m.\u001b[0m\u001b[0m__getattribute__\u001b[0m\u001b[0;34m(\u001b[0m\u001b[0mself\u001b[0m\u001b[0;34m,\u001b[0m \u001b[0mname\u001b[0m\u001b[0;34m)\u001b[0m\u001b[0;34m\u001b[0m\u001b[0;34m\u001b[0m\u001b[0m\n\u001b[0m\u001b[1;32m   5462\u001b[0m         \u001b[0;32melse\u001b[0m\u001b[0;34m:\u001b[0m\u001b[0;34m\u001b[0m\u001b[0;34m\u001b[0m\u001b[0m\n\u001b[1;32m   5463\u001b[0m             \u001b[0;32mif\u001b[0m \u001b[0mself\u001b[0m\u001b[0;34m.\u001b[0m\u001b[0m_info_axis\u001b[0m\u001b[0;34m.\u001b[0m\u001b[0m_can_hold_identifiers_and_holds_name\u001b[0m\u001b[0;34m(\u001b[0m\u001b[0mname\u001b[0m\u001b[0;34m)\u001b[0m\u001b[0;34m:\u001b[0m\u001b[0;34m\u001b[0m\u001b[0;34m\u001b[0m\u001b[0m\n",
      "\u001b[0;32m~/anaconda3/envs/raizenenv/lib/python3.9/site-packages/pandas/core/accessor.py\u001b[0m in \u001b[0;36m__get__\u001b[0;34m(self, obj, cls)\u001b[0m\n\u001b[1;32m    178\u001b[0m             \u001b[0;31m# we're accessing the attribute of the class, i.e., Dataset.geo\u001b[0m\u001b[0;34m\u001b[0m\u001b[0;34m\u001b[0m\u001b[0;34m\u001b[0m\u001b[0m\n\u001b[1;32m    179\u001b[0m             \u001b[0;32mreturn\u001b[0m \u001b[0mself\u001b[0m\u001b[0;34m.\u001b[0m\u001b[0m_accessor\u001b[0m\u001b[0;34m\u001b[0m\u001b[0;34m\u001b[0m\u001b[0m\n\u001b[0;32m--> 180\u001b[0;31m         \u001b[0maccessor_obj\u001b[0m \u001b[0;34m=\u001b[0m \u001b[0mself\u001b[0m\u001b[0;34m.\u001b[0m\u001b[0m_accessor\u001b[0m\u001b[0;34m(\u001b[0m\u001b[0mobj\u001b[0m\u001b[0;34m)\u001b[0m\u001b[0;34m\u001b[0m\u001b[0;34m\u001b[0m\u001b[0m\n\u001b[0m\u001b[1;32m    181\u001b[0m         \u001b[0;31m# Replace the property with the accessor object. Inspired by:\u001b[0m\u001b[0;34m\u001b[0m\u001b[0;34m\u001b[0m\u001b[0;34m\u001b[0m\u001b[0m\n\u001b[1;32m    182\u001b[0m         \u001b[0;31m# https://www.pydanny.com/cached-property.html\u001b[0m\u001b[0;34m\u001b[0m\u001b[0;34m\u001b[0m\u001b[0;34m\u001b[0m\u001b[0m\n",
      "\u001b[0;32m~/anaconda3/envs/raizenenv/lib/python3.9/site-packages/pandas/core/indexes/accessors.py\u001b[0m in \u001b[0;36m__new__\u001b[0;34m(cls, data)\u001b[0m\n\u001b[1;32m    492\u001b[0m             \u001b[0;32mreturn\u001b[0m \u001b[0mPeriodProperties\u001b[0m\u001b[0;34m(\u001b[0m\u001b[0mdata\u001b[0m\u001b[0;34m,\u001b[0m \u001b[0morig\u001b[0m\u001b[0;34m)\u001b[0m\u001b[0;34m\u001b[0m\u001b[0;34m\u001b[0m\u001b[0m\n\u001b[1;32m    493\u001b[0m \u001b[0;34m\u001b[0m\u001b[0m\n\u001b[0;32m--> 494\u001b[0;31m         \u001b[0;32mraise\u001b[0m \u001b[0mAttributeError\u001b[0m\u001b[0;34m(\u001b[0m\u001b[0;34m\"Can only use .dt accessor with datetimelike values\"\u001b[0m\u001b[0;34m)\u001b[0m\u001b[0;34m\u001b[0m\u001b[0;34m\u001b[0m\u001b[0m\n\u001b[0m",
      "\u001b[0;31mAttributeError\u001b[0m: Can only use .dt accessor with datetimelike values"
     ]
    }
   ],
   "source": [
    "final_df.groupby([final_df['year-month'].dt.year, final_df['product']])['volume'].agg(['sum'])"
   ]
  },
  {
   "cell_type": "markdown",
   "metadata": {},
   "source": [
    "#### Teste\n",
    "* Group data by year\n",
    "\n",
    "* Sum data"
   ]
  },
  {
   "cell_type": "code",
   "execution_count": null,
   "metadata": {
    "scrolled": true
   },
   "outputs": [],
   "source": [
    "final_df['year-month'] = pd.to_datetime(final_df['year-month'])"
   ]
  },
  {
   "cell_type": "code",
   "execution_count": null,
   "metadata": {},
   "outputs": [],
   "source": [
    "pd.set_option('display.float_format', lambda x: '%.3f' % x)"
   ]
  },
  {
   "cell_type": "code",
   "execution_count": null,
   "metadata": {},
   "outputs": [],
   "source": [
    "final_df.loc[(final_df['year-month'].dt.year == 2000)].groupby(\n",
    "                                                    final_df['year-month']\n",
    "                                                    .dt.year)['volume'] \\\n",
    "                                                    .agg(['sum'])"
   ]
  },
  {
   "cell_type": "code",
   "execution_count": null,
   "metadata": {},
   "outputs": [],
   "source": [
    "gruped = final_df.groupby(final_df['year-month'].dt.year)['volume'].agg(['sum'])"
   ]
  },
  {
   "cell_type": "markdown",
   "metadata": {},
   "source": [
    "### Loading Data"
   ]
  },
  {
   "cell_type": "code",
   "execution_count": null,
   "metadata": {},
   "outputs": [],
   "source": [
    "import psycopg2\n",
    "host        = 'localhost'\n",
    "port        = '5432'\n",
    "dbname      = 'anp'\n",
    "tablename   = 'tb_anp_fuel_sales'\n",
    "password    = 'airflow'\n",
    "username    = 'airflow'"
   ]
  },
  {
   "cell_type": "code",
   "execution_count": null,
   "metadata": {},
   "outputs": [],
   "source": [
    "def conection_db(user, password, host, port, dbname):\n",
    "    \"\"\"\n",
    "    Create the connection and the cursor to the Postgres db \n",
    "    Parameters\n",
    "    user:str\n",
    "    password:str\n",
    "    host:str\n",
    "    port:str\n",
    "    dbname:str\n",
    "    \"\"\"\n",
    "    try:\n",
    "        conn = psycopg2.connect(user=user,\n",
    "                                password=password,\n",
    "                                host=host,\n",
    "                                port=port,\n",
    "                                database=dbname)\n",
    "        cur = conn.cursor()\n",
    "        return conn, cur\n",
    "\n",
    "    except (Exception, psycopg2.DatabaseError) as error:\n",
    "        print('Error while connecting to PostgreSQL db:', error)"
   ]
  },
  {
   "cell_type": "code",
   "execution_count": null,
   "metadata": {},
   "outputs": [],
   "source": [
    "def creating_table(conn, cur, query):\n",
    "    \"\"\"\n",
    "    Used to create a table in db\n",
    "    Parameters:\n",
    "    conn (class: psycopg2.extensions.connection): connector to db\n",
    "    cur (class: psycopg2.extensions.cursor): cursor to execute SQL command\n",
    "    query (str): the sql query \n",
    "    Returns:\n",
    "    Nothing. Only execute the command.\n",
    "    \"\"\"\n",
    "    try:\n",
    "        cur.execute(query)\n",
    "        conn.commit()\n",
    "        print(\"Table created successfully in PostgreSQL\")\n",
    "\n",
    "    except (Exception, psycopg2.DatabaseError) as error:\n",
    "        print('Error while creating PostgreSQL table:', error) "
   ]
  },
  {
   "cell_type": "code",
   "execution_count": null,
   "metadata": {},
   "outputs": [],
   "source": [
    "create_table_query = f\"\"\"CREATE TABLE IF NOT EXISTS {tablename}\n",
    "                    (\n",
    "                        year_month      DATE, \n",
    "                        uf              TEXT,\n",
    "                        product         TEXT,\n",
    "                        unit            TEXT,\n",
    "                        volume          DOUBLE PRECISION,\n",
    "                        created_at      TIMESTAMPTZ NOT NULL DEFAULT NOW()\n",
    "                    )\"\"\""
   ]
  },
  {
   "cell_type": "code",
   "execution_count": null,
   "metadata": {},
   "outputs": [],
   "source": [
    "def create_database(conn, cur, dbname):\n",
    "    try:\n",
    "        sql_create_database = f'CREATE DATABASE {dbname};'\n",
    "        cur.execute(sql_create_database)\n",
    "        conn.commit()\n",
    "        print(f'Database {dbname} created successfully in PostgreSQL')\n",
    "\n",
    "    except (Exception, psycopg2.DatabaseError) as error:\n",
    "        print(F'Error while creating PostgresSQL database {dbname}:{error}')"
   ]
  },
  {
   "cell_type": "markdown",
   "metadata": {},
   "source": [
    "### Inserting Data into Table"
   ]
  },
  {
   "cell_type": "code",
   "execution_count": null,
   "metadata": {},
   "outputs": [],
   "source": [
    "conn, cur = conection_db(username, password, host, port, dbname)\n",
    "#creating_table(conn, cur, create_table_query)"
   ]
  },
  {
   "cell_type": "code",
   "execution_count": null,
   "metadata": {},
   "outputs": [],
   "source": [
    "def insert_data_into_table(conn, cur, query, df):\n",
    "    \"\"\"\n",
    "    Used to insert data into a table in postgresdb\n",
    "    Parameters:\n",
    "    conn (class: psycopg2.extensions.connection): connector to db\n",
    "    cur (class: psycopg2.extensions.cursor): cursor to execute SQL command\n",
    "    query (str): the sql query \n",
    "    df (list): data cleaned\n",
    "    Returns:\n",
    "    Nothing. Only execute the command.\n",
    "    \"\"\"\n",
    "\n",
    "    try:\n",
    "        cur.executemany(query, df)\n",
    "        conn.commit()\n",
    "        print('Data was inserted sucessfully')\n",
    "        \n",
    "    except (Exception, psycopg2.Error) as error:\n",
    "        print('Error while inserting data:', error)"
   ]
  },
  {
   "cell_type": "code",
   "execution_count": null,
   "metadata": {},
   "outputs": [],
   "source": [
    "insert_query = (\"\"\"\n",
    "    INSERT INTO tb_anp_fuel_sales VALUES(%s,%s,%s,%s,%s)\n",
    "\"\"\")"
   ]
  },
  {
   "cell_type": "code",
   "execution_count": null,
   "metadata": {},
   "outputs": [],
   "source": [
    "final_df['year-month'] = final_df['year-month'].astype(str)"
   ]
  },
  {
   "cell_type": "code",
   "execution_count": null,
   "metadata": {},
   "outputs": [],
   "source": [
    "list_test = final_df.values.tolist()"
   ]
  },
  {
   "cell_type": "code",
   "execution_count": null,
   "metadata": {},
   "outputs": [],
   "source": [
    "insert_data_into_table(conn, cur, insert_query, list_test)"
   ]
  },
  {
   "cell_type": "code",
   "execution_count": null,
   "metadata": {},
   "outputs": [],
   "source": [
    "conn.close()"
   ]
  },
  {
   "cell_type": "code",
   "execution_count": null,
   "metadata": {},
   "outputs": [],
   "source": [
    "def connection_dbb(postgres_conn_id):\n",
    "    try:\n",
    "        hook = PostgresHook(postgres_conn_id=postgres_conn_id)\n",
    "        conn = hook.get_conn()\n",
    "        print(f'Get conn!')\n",
    "        \"\"\" cur = conn.cursor()\n",
    "        print('Connection and cursor was created.')\n",
    "        return conn, cur \"\"\"\n",
    "    except (Exception, psycopg2.DatabaseError) as error:\n",
    "        print('Error while connecting to PostgreSQL db:', error)"
   ]
  }
 ],
 "metadata": {
  "celltoolbar": "Raw Cell Format",
  "kernelspec": {
   "display_name": "raizenenv",
   "language": "python",
   "name": "raizenenv"
  },
  "language_info": {
   "codemirror_mode": {
    "name": "ipython",
    "version": 3
   },
   "file_extension": ".py",
   "mimetype": "text/x-python",
   "name": "python",
   "nbconvert_exporter": "python",
   "pygments_lexer": "ipython3",
   "version": "3.9.5"
  }
 },
 "nbformat": 4,
 "nbformat_minor": 4
}
